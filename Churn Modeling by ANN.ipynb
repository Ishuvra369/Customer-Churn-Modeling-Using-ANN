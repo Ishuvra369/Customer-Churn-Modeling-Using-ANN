{
 "cells": [
  {
   "cell_type": "markdown",
   "id": "7bdf1166",
   "metadata": {},
   "source": [
    "Creating an Artificial Neural Network for Customer Churn"
   ]
  },
  {
   "cell_type": "code",
   "execution_count": 1,
   "id": "cd63e32e",
   "metadata": {},
   "outputs": [],
   "source": [
    "# Importing the libraries\n",
    "\n",
    "import numpy as np\n",
    "import matplotlib.pyplot as plt\n",
    "import pandas as pd\n",
    "import tensorflow\n",
    "from tensorflow import keras\n",
    "import os"
   ]
  },
  {
   "cell_type": "code",
   "execution_count": 2,
   "id": "2013b2b2",
   "metadata": {},
   "outputs": [],
   "source": [
    "os.chdir(r\"E:\\Pyhton for Data Science and Machine Learning\")"
   ]
  },
  {
   "cell_type": "code",
   "execution_count": 3,
   "id": "45b1d2cb",
   "metadata": {},
   "outputs": [],
   "source": [
    "dataset = pd.read_csv(\"Churn_Modelling.csv\")"
   ]
  },
  {
   "cell_type": "code",
   "execution_count": 4,
   "id": "6a135744",
   "metadata": {},
   "outputs": [
    {
     "data": {
      "text/html": [
       "<div>\n",
       "<style scoped>\n",
       "    .dataframe tbody tr th:only-of-type {\n",
       "        vertical-align: middle;\n",
       "    }\n",
       "\n",
       "    .dataframe tbody tr th {\n",
       "        vertical-align: top;\n",
       "    }\n",
       "\n",
       "    .dataframe thead th {\n",
       "        text-align: right;\n",
       "    }\n",
       "</style>\n",
       "<table border=\"1\" class=\"dataframe\">\n",
       "  <thead>\n",
       "    <tr style=\"text-align: right;\">\n",
       "      <th></th>\n",
       "      <th>RowNumber</th>\n",
       "      <th>CustomerId</th>\n",
       "      <th>Surname</th>\n",
       "      <th>CreditScore</th>\n",
       "      <th>Geography</th>\n",
       "      <th>Gender</th>\n",
       "      <th>Age</th>\n",
       "      <th>Tenure</th>\n",
       "      <th>Balance</th>\n",
       "      <th>NumOfProducts</th>\n",
       "      <th>HasCrCard</th>\n",
       "      <th>IsActiveMember</th>\n",
       "      <th>EstimatedSalary</th>\n",
       "      <th>Exited</th>\n",
       "    </tr>\n",
       "  </thead>\n",
       "  <tbody>\n",
       "    <tr>\n",
       "      <th>0</th>\n",
       "      <td>1</td>\n",
       "      <td>15634602</td>\n",
       "      <td>Hargrave</td>\n",
       "      <td>619</td>\n",
       "      <td>France</td>\n",
       "      <td>Female</td>\n",
       "      <td>42</td>\n",
       "      <td>2</td>\n",
       "      <td>0.00</td>\n",
       "      <td>1</td>\n",
       "      <td>1</td>\n",
       "      <td>1</td>\n",
       "      <td>101348.88</td>\n",
       "      <td>1</td>\n",
       "    </tr>\n",
       "    <tr>\n",
       "      <th>1</th>\n",
       "      <td>2</td>\n",
       "      <td>15647311</td>\n",
       "      <td>Hill</td>\n",
       "      <td>608</td>\n",
       "      <td>Spain</td>\n",
       "      <td>Female</td>\n",
       "      <td>41</td>\n",
       "      <td>1</td>\n",
       "      <td>83807.86</td>\n",
       "      <td>1</td>\n",
       "      <td>0</td>\n",
       "      <td>1</td>\n",
       "      <td>112542.58</td>\n",
       "      <td>0</td>\n",
       "    </tr>\n",
       "    <tr>\n",
       "      <th>2</th>\n",
       "      <td>3</td>\n",
       "      <td>15619304</td>\n",
       "      <td>Onio</td>\n",
       "      <td>502</td>\n",
       "      <td>France</td>\n",
       "      <td>Female</td>\n",
       "      <td>42</td>\n",
       "      <td>8</td>\n",
       "      <td>159660.80</td>\n",
       "      <td>3</td>\n",
       "      <td>1</td>\n",
       "      <td>0</td>\n",
       "      <td>113931.57</td>\n",
       "      <td>1</td>\n",
       "    </tr>\n",
       "    <tr>\n",
       "      <th>3</th>\n",
       "      <td>4</td>\n",
       "      <td>15701354</td>\n",
       "      <td>Boni</td>\n",
       "      <td>699</td>\n",
       "      <td>France</td>\n",
       "      <td>Female</td>\n",
       "      <td>39</td>\n",
       "      <td>1</td>\n",
       "      <td>0.00</td>\n",
       "      <td>2</td>\n",
       "      <td>0</td>\n",
       "      <td>0</td>\n",
       "      <td>93826.63</td>\n",
       "      <td>0</td>\n",
       "    </tr>\n",
       "    <tr>\n",
       "      <th>4</th>\n",
       "      <td>5</td>\n",
       "      <td>15737888</td>\n",
       "      <td>Mitchell</td>\n",
       "      <td>850</td>\n",
       "      <td>Spain</td>\n",
       "      <td>Female</td>\n",
       "      <td>43</td>\n",
       "      <td>2</td>\n",
       "      <td>125510.82</td>\n",
       "      <td>1</td>\n",
       "      <td>1</td>\n",
       "      <td>1</td>\n",
       "      <td>79084.10</td>\n",
       "      <td>0</td>\n",
       "    </tr>\n",
       "  </tbody>\n",
       "</table>\n",
       "</div>"
      ],
      "text/plain": [
       "   RowNumber  CustomerId   Surname  CreditScore Geography  Gender  Age  \\\n",
       "0          1    15634602  Hargrave          619    France  Female   42   \n",
       "1          2    15647311      Hill          608     Spain  Female   41   \n",
       "2          3    15619304      Onio          502    France  Female   42   \n",
       "3          4    15701354      Boni          699    France  Female   39   \n",
       "4          5    15737888  Mitchell          850     Spain  Female   43   \n",
       "\n",
       "   Tenure    Balance  NumOfProducts  HasCrCard  IsActiveMember  \\\n",
       "0       2       0.00              1          1               1   \n",
       "1       1   83807.86              1          0               1   \n",
       "2       8  159660.80              3          1               0   \n",
       "3       1       0.00              2          0               0   \n",
       "4       2  125510.82              1          1               1   \n",
       "\n",
       "   EstimatedSalary  Exited  \n",
       "0        101348.88       1  \n",
       "1        112542.58       0  \n",
       "2        113931.57       1  \n",
       "3         93826.63       0  \n",
       "4         79084.10       0  "
      ]
     },
     "execution_count": 4,
     "metadata": {},
     "output_type": "execute_result"
    }
   ],
   "source": [
    "dataset.head()"
   ]
  },
  {
   "cell_type": "code",
   "execution_count": 5,
   "id": "24c09697",
   "metadata": {},
   "outputs": [
    {
     "name": "stdout",
     "output_type": "stream",
     "text": [
      "<class 'pandas.core.frame.DataFrame'>\n",
      "RangeIndex: 10000 entries, 0 to 9999\n",
      "Data columns (total 14 columns):\n",
      " #   Column           Non-Null Count  Dtype  \n",
      "---  ------           --------------  -----  \n",
      " 0   RowNumber        10000 non-null  int64  \n",
      " 1   CustomerId       10000 non-null  int64  \n",
      " 2   Surname          10000 non-null  object \n",
      " 3   CreditScore      10000 non-null  int64  \n",
      " 4   Geography        10000 non-null  object \n",
      " 5   Gender           10000 non-null  object \n",
      " 6   Age              10000 non-null  int64  \n",
      " 7   Tenure           10000 non-null  int64  \n",
      " 8   Balance          10000 non-null  float64\n",
      " 9   NumOfProducts    10000 non-null  int64  \n",
      " 10  HasCrCard        10000 non-null  int64  \n",
      " 11  IsActiveMember   10000 non-null  int64  \n",
      " 12  EstimatedSalary  10000 non-null  float64\n",
      " 13  Exited           10000 non-null  int64  \n",
      "dtypes: float64(2), int64(9), object(3)\n",
      "memory usage: 1.1+ MB\n"
     ]
    }
   ],
   "source": [
    "pd.set_option('display.max_columns', None)\n",
    "dataset.info()"
   ]
  },
  {
   "cell_type": "code",
   "execution_count": 6,
   "id": "05d9381c",
   "metadata": {},
   "outputs": [],
   "source": [
    "# Removing irrelevant variables\n",
    "\n",
    "dataset=dataset.drop([\"RowNumber\",\"CustomerId\",\"Surname\"],axis=1)"
   ]
  },
  {
   "cell_type": "code",
   "execution_count": 7,
   "id": "dac54ec8",
   "metadata": {},
   "outputs": [
    {
     "data": {
      "text/html": [
       "<div>\n",
       "<style scoped>\n",
       "    .dataframe tbody tr th:only-of-type {\n",
       "        vertical-align: middle;\n",
       "    }\n",
       "\n",
       "    .dataframe tbody tr th {\n",
       "        vertical-align: top;\n",
       "    }\n",
       "\n",
       "    .dataframe thead th {\n",
       "        text-align: right;\n",
       "    }\n",
       "</style>\n",
       "<table border=\"1\" class=\"dataframe\">\n",
       "  <thead>\n",
       "    <tr style=\"text-align: right;\">\n",
       "      <th></th>\n",
       "      <th>CreditScore</th>\n",
       "      <th>Geography</th>\n",
       "      <th>Gender</th>\n",
       "      <th>Age</th>\n",
       "      <th>Tenure</th>\n",
       "      <th>Balance</th>\n",
       "      <th>NumOfProducts</th>\n",
       "      <th>HasCrCard</th>\n",
       "      <th>IsActiveMember</th>\n",
       "      <th>EstimatedSalary</th>\n",
       "      <th>Exited</th>\n",
       "    </tr>\n",
       "  </thead>\n",
       "  <tbody>\n",
       "    <tr>\n",
       "      <th>0</th>\n",
       "      <td>619</td>\n",
       "      <td>France</td>\n",
       "      <td>Female</td>\n",
       "      <td>42</td>\n",
       "      <td>2</td>\n",
       "      <td>0.00</td>\n",
       "      <td>1</td>\n",
       "      <td>1</td>\n",
       "      <td>1</td>\n",
       "      <td>101348.88</td>\n",
       "      <td>1</td>\n",
       "    </tr>\n",
       "    <tr>\n",
       "      <th>1</th>\n",
       "      <td>608</td>\n",
       "      <td>Spain</td>\n",
       "      <td>Female</td>\n",
       "      <td>41</td>\n",
       "      <td>1</td>\n",
       "      <td>83807.86</td>\n",
       "      <td>1</td>\n",
       "      <td>0</td>\n",
       "      <td>1</td>\n",
       "      <td>112542.58</td>\n",
       "      <td>0</td>\n",
       "    </tr>\n",
       "    <tr>\n",
       "      <th>2</th>\n",
       "      <td>502</td>\n",
       "      <td>France</td>\n",
       "      <td>Female</td>\n",
       "      <td>42</td>\n",
       "      <td>8</td>\n",
       "      <td>159660.80</td>\n",
       "      <td>3</td>\n",
       "      <td>1</td>\n",
       "      <td>0</td>\n",
       "      <td>113931.57</td>\n",
       "      <td>1</td>\n",
       "    </tr>\n",
       "    <tr>\n",
       "      <th>3</th>\n",
       "      <td>699</td>\n",
       "      <td>France</td>\n",
       "      <td>Female</td>\n",
       "      <td>39</td>\n",
       "      <td>1</td>\n",
       "      <td>0.00</td>\n",
       "      <td>2</td>\n",
       "      <td>0</td>\n",
       "      <td>0</td>\n",
       "      <td>93826.63</td>\n",
       "      <td>0</td>\n",
       "    </tr>\n",
       "    <tr>\n",
       "      <th>4</th>\n",
       "      <td>850</td>\n",
       "      <td>Spain</td>\n",
       "      <td>Female</td>\n",
       "      <td>43</td>\n",
       "      <td>2</td>\n",
       "      <td>125510.82</td>\n",
       "      <td>1</td>\n",
       "      <td>1</td>\n",
       "      <td>1</td>\n",
       "      <td>79084.10</td>\n",
       "      <td>0</td>\n",
       "    </tr>\n",
       "  </tbody>\n",
       "</table>\n",
       "</div>"
      ],
      "text/plain": [
       "   CreditScore Geography  Gender  Age  Tenure    Balance  NumOfProducts  \\\n",
       "0          619    France  Female   42       2       0.00              1   \n",
       "1          608     Spain  Female   41       1   83807.86              1   \n",
       "2          502    France  Female   42       8  159660.80              3   \n",
       "3          699    France  Female   39       1       0.00              2   \n",
       "4          850     Spain  Female   43       2  125510.82              1   \n",
       "\n",
       "   HasCrCard  IsActiveMember  EstimatedSalary  Exited  \n",
       "0          1               1        101348.88       1  \n",
       "1          0               1        112542.58       0  \n",
       "2          1               0        113931.57       1  \n",
       "3          0               0         93826.63       0  \n",
       "4          1               1         79084.10       0  "
      ]
     },
     "execution_count": 7,
     "metadata": {},
     "output_type": "execute_result"
    }
   ],
   "source": [
    "dataset.head()"
   ]
  },
  {
   "cell_type": "code",
   "execution_count": 8,
   "id": "c7ee378f",
   "metadata": {},
   "outputs": [
    {
     "data": {
      "text/plain": [
       "Male      5457\n",
       "Female    4543\n",
       "Name: Gender, dtype: int64"
      ]
     },
     "execution_count": 8,
     "metadata": {},
     "output_type": "execute_result"
    }
   ],
   "source": [
    "dataset.Gender.value_counts()"
   ]
  },
  {
   "cell_type": "code",
   "execution_count": 9,
   "id": "0b923feb",
   "metadata": {},
   "outputs": [
    {
     "data": {
      "text/plain": [
       "France     5014\n",
       "Germany    2509\n",
       "Spain      2477\n",
       "Name: Geography, dtype: int64"
      ]
     },
     "execution_count": 9,
     "metadata": {},
     "output_type": "execute_result"
    }
   ],
   "source": [
    "dataset.Geography.value_counts()"
   ]
  },
  {
   "cell_type": "code",
   "execution_count": 10,
   "id": "87939040",
   "metadata": {},
   "outputs": [],
   "source": [
    "# Creating dummy variables\n",
    "\n",
    "dataset=pd.get_dummies(data=dataset,columns=['Geography', 'Gender'],drop_first=True)"
   ]
  },
  {
   "cell_type": "code",
   "execution_count": 11,
   "id": "1b9e4eb6",
   "metadata": {},
   "outputs": [
    {
     "data": {
      "text/html": [
       "<div>\n",
       "<style scoped>\n",
       "    .dataframe tbody tr th:only-of-type {\n",
       "        vertical-align: middle;\n",
       "    }\n",
       "\n",
       "    .dataframe tbody tr th {\n",
       "        vertical-align: top;\n",
       "    }\n",
       "\n",
       "    .dataframe thead th {\n",
       "        text-align: right;\n",
       "    }\n",
       "</style>\n",
       "<table border=\"1\" class=\"dataframe\">\n",
       "  <thead>\n",
       "    <tr style=\"text-align: right;\">\n",
       "      <th></th>\n",
       "      <th>CreditScore</th>\n",
       "      <th>Age</th>\n",
       "      <th>Tenure</th>\n",
       "      <th>Balance</th>\n",
       "      <th>NumOfProducts</th>\n",
       "      <th>HasCrCard</th>\n",
       "      <th>IsActiveMember</th>\n",
       "      <th>EstimatedSalary</th>\n",
       "      <th>Exited</th>\n",
       "      <th>Geography_Germany</th>\n",
       "      <th>Geography_Spain</th>\n",
       "      <th>Gender_Male</th>\n",
       "    </tr>\n",
       "  </thead>\n",
       "  <tbody>\n",
       "    <tr>\n",
       "      <th>0</th>\n",
       "      <td>619</td>\n",
       "      <td>42</td>\n",
       "      <td>2</td>\n",
       "      <td>0.00</td>\n",
       "      <td>1</td>\n",
       "      <td>1</td>\n",
       "      <td>1</td>\n",
       "      <td>101348.88</td>\n",
       "      <td>1</td>\n",
       "      <td>0</td>\n",
       "      <td>0</td>\n",
       "      <td>0</td>\n",
       "    </tr>\n",
       "    <tr>\n",
       "      <th>1</th>\n",
       "      <td>608</td>\n",
       "      <td>41</td>\n",
       "      <td>1</td>\n",
       "      <td>83807.86</td>\n",
       "      <td>1</td>\n",
       "      <td>0</td>\n",
       "      <td>1</td>\n",
       "      <td>112542.58</td>\n",
       "      <td>0</td>\n",
       "      <td>0</td>\n",
       "      <td>1</td>\n",
       "      <td>0</td>\n",
       "    </tr>\n",
       "    <tr>\n",
       "      <th>2</th>\n",
       "      <td>502</td>\n",
       "      <td>42</td>\n",
       "      <td>8</td>\n",
       "      <td>159660.80</td>\n",
       "      <td>3</td>\n",
       "      <td>1</td>\n",
       "      <td>0</td>\n",
       "      <td>113931.57</td>\n",
       "      <td>1</td>\n",
       "      <td>0</td>\n",
       "      <td>0</td>\n",
       "      <td>0</td>\n",
       "    </tr>\n",
       "    <tr>\n",
       "      <th>3</th>\n",
       "      <td>699</td>\n",
       "      <td>39</td>\n",
       "      <td>1</td>\n",
       "      <td>0.00</td>\n",
       "      <td>2</td>\n",
       "      <td>0</td>\n",
       "      <td>0</td>\n",
       "      <td>93826.63</td>\n",
       "      <td>0</td>\n",
       "      <td>0</td>\n",
       "      <td>0</td>\n",
       "      <td>0</td>\n",
       "    </tr>\n",
       "    <tr>\n",
       "      <th>4</th>\n",
       "      <td>850</td>\n",
       "      <td>43</td>\n",
       "      <td>2</td>\n",
       "      <td>125510.82</td>\n",
       "      <td>1</td>\n",
       "      <td>1</td>\n",
       "      <td>1</td>\n",
       "      <td>79084.10</td>\n",
       "      <td>0</td>\n",
       "      <td>0</td>\n",
       "      <td>1</td>\n",
       "      <td>0</td>\n",
       "    </tr>\n",
       "  </tbody>\n",
       "</table>\n",
       "</div>"
      ],
      "text/plain": [
       "   CreditScore  Age  Tenure    Balance  NumOfProducts  HasCrCard  \\\n",
       "0          619   42       2       0.00              1          1   \n",
       "1          608   41       1   83807.86              1          0   \n",
       "2          502   42       8  159660.80              3          1   \n",
       "3          699   39       1       0.00              2          0   \n",
       "4          850   43       2  125510.82              1          1   \n",
       "\n",
       "   IsActiveMember  EstimatedSalary  Exited  Geography_Germany  \\\n",
       "0               1        101348.88       1                  0   \n",
       "1               1        112542.58       0                  0   \n",
       "2               0        113931.57       1                  0   \n",
       "3               0         93826.63       0                  0   \n",
       "4               1         79084.10       0                  0   \n",
       "\n",
       "   Geography_Spain  Gender_Male  \n",
       "0                0            0  \n",
       "1                1            0  \n",
       "2                0            0  \n",
       "3                0            0  \n",
       "4                1            0  "
      ]
     },
     "execution_count": 11,
     "metadata": {},
     "output_type": "execute_result"
    }
   ],
   "source": [
    "dataset.head()"
   ]
  },
  {
   "cell_type": "code",
   "execution_count": 12,
   "id": "968586ef",
   "metadata": {},
   "outputs": [
    {
     "data": {
      "text/plain": [
       "CreditScore          0\n",
       "Age                  0\n",
       "Tenure               0\n",
       "Balance              0\n",
       "NumOfProducts        0\n",
       "HasCrCard            0\n",
       "IsActiveMember       0\n",
       "EstimatedSalary      0\n",
       "Exited               0\n",
       "Geography_Germany    0\n",
       "Geography_Spain      0\n",
       "Gender_Male          0\n",
       "dtype: int64"
      ]
     },
     "execution_count": 12,
     "metadata": {},
     "output_type": "execute_result"
    }
   ],
   "source": [
    "# Missing value checking\n",
    "\n",
    "dataset.isnull().sum()"
   ]
  },
  {
   "cell_type": "code",
   "execution_count": 13,
   "id": "0f05356e",
   "metadata": {},
   "outputs": [],
   "source": [
    "# Segregating dependent & independent variables\n",
    "\n",
    "X = dataset.drop(\"Exited\",axis=1)\n",
    "y = dataset.loc[:, \"Exited\"]"
   ]
  },
  {
   "cell_type": "code",
   "execution_count": 14,
   "id": "b8b83044",
   "metadata": {},
   "outputs": [
    {
     "data": {
      "text/html": [
       "<div>\n",
       "<style scoped>\n",
       "    .dataframe tbody tr th:only-of-type {\n",
       "        vertical-align: middle;\n",
       "    }\n",
       "\n",
       "    .dataframe tbody tr th {\n",
       "        vertical-align: top;\n",
       "    }\n",
       "\n",
       "    .dataframe thead th {\n",
       "        text-align: right;\n",
       "    }\n",
       "</style>\n",
       "<table border=\"1\" class=\"dataframe\">\n",
       "  <thead>\n",
       "    <tr style=\"text-align: right;\">\n",
       "      <th></th>\n",
       "      <th>CreditScore</th>\n",
       "      <th>Age</th>\n",
       "      <th>Tenure</th>\n",
       "      <th>Balance</th>\n",
       "      <th>NumOfProducts</th>\n",
       "      <th>HasCrCard</th>\n",
       "      <th>IsActiveMember</th>\n",
       "      <th>EstimatedSalary</th>\n",
       "      <th>Geography_Germany</th>\n",
       "      <th>Geography_Spain</th>\n",
       "      <th>Gender_Male</th>\n",
       "    </tr>\n",
       "  </thead>\n",
       "  <tbody>\n",
       "    <tr>\n",
       "      <th>0</th>\n",
       "      <td>619</td>\n",
       "      <td>42</td>\n",
       "      <td>2</td>\n",
       "      <td>0.00</td>\n",
       "      <td>1</td>\n",
       "      <td>1</td>\n",
       "      <td>1</td>\n",
       "      <td>101348.88</td>\n",
       "      <td>0</td>\n",
       "      <td>0</td>\n",
       "      <td>0</td>\n",
       "    </tr>\n",
       "    <tr>\n",
       "      <th>1</th>\n",
       "      <td>608</td>\n",
       "      <td>41</td>\n",
       "      <td>1</td>\n",
       "      <td>83807.86</td>\n",
       "      <td>1</td>\n",
       "      <td>0</td>\n",
       "      <td>1</td>\n",
       "      <td>112542.58</td>\n",
       "      <td>0</td>\n",
       "      <td>1</td>\n",
       "      <td>0</td>\n",
       "    </tr>\n",
       "    <tr>\n",
       "      <th>2</th>\n",
       "      <td>502</td>\n",
       "      <td>42</td>\n",
       "      <td>8</td>\n",
       "      <td>159660.80</td>\n",
       "      <td>3</td>\n",
       "      <td>1</td>\n",
       "      <td>0</td>\n",
       "      <td>113931.57</td>\n",
       "      <td>0</td>\n",
       "      <td>0</td>\n",
       "      <td>0</td>\n",
       "    </tr>\n",
       "    <tr>\n",
       "      <th>3</th>\n",
       "      <td>699</td>\n",
       "      <td>39</td>\n",
       "      <td>1</td>\n",
       "      <td>0.00</td>\n",
       "      <td>2</td>\n",
       "      <td>0</td>\n",
       "      <td>0</td>\n",
       "      <td>93826.63</td>\n",
       "      <td>0</td>\n",
       "      <td>0</td>\n",
       "      <td>0</td>\n",
       "    </tr>\n",
       "    <tr>\n",
       "      <th>4</th>\n",
       "      <td>850</td>\n",
       "      <td>43</td>\n",
       "      <td>2</td>\n",
       "      <td>125510.82</td>\n",
       "      <td>1</td>\n",
       "      <td>1</td>\n",
       "      <td>1</td>\n",
       "      <td>79084.10</td>\n",
       "      <td>0</td>\n",
       "      <td>1</td>\n",
       "      <td>0</td>\n",
       "    </tr>\n",
       "  </tbody>\n",
       "</table>\n",
       "</div>"
      ],
      "text/plain": [
       "   CreditScore  Age  Tenure    Balance  NumOfProducts  HasCrCard  \\\n",
       "0          619   42       2       0.00              1          1   \n",
       "1          608   41       1   83807.86              1          0   \n",
       "2          502   42       8  159660.80              3          1   \n",
       "3          699   39       1       0.00              2          0   \n",
       "4          850   43       2  125510.82              1          1   \n",
       "\n",
       "   IsActiveMember  EstimatedSalary  Geography_Germany  Geography_Spain  \\\n",
       "0               1        101348.88                  0                0   \n",
       "1               1        112542.58                  0                1   \n",
       "2               0        113931.57                  0                0   \n",
       "3               0         93826.63                  0                0   \n",
       "4               1         79084.10                  0                1   \n",
       "\n",
       "   Gender_Male  \n",
       "0            0  \n",
       "1            0  \n",
       "2            0  \n",
       "3            0  \n",
       "4            0  "
      ]
     },
     "execution_count": 14,
     "metadata": {},
     "output_type": "execute_result"
    }
   ],
   "source": [
    "X.head()"
   ]
  },
  {
   "cell_type": "code",
   "execution_count": 15,
   "id": "d7bb4252",
   "metadata": {},
   "outputs": [
    {
     "data": {
      "text/plain": [
       "0       1\n",
       "1       0\n",
       "2       1\n",
       "3       0\n",
       "4       0\n",
       "       ..\n",
       "9995    0\n",
       "9996    0\n",
       "9997    1\n",
       "9998    1\n",
       "9999    0\n",
       "Name: Exited, Length: 10000, dtype: int64"
      ]
     },
     "execution_count": 15,
     "metadata": {},
     "output_type": "execute_result"
    }
   ],
   "source": [
    "y"
   ]
  },
  {
   "cell_type": "code",
   "execution_count": 16,
   "id": "cacdb714",
   "metadata": {},
   "outputs": [],
   "source": [
    "# Splitting the dataset into Training set and Testing set\n",
    "\n",
    "from sklearn.model_selection import train_test_split\n",
    "\n",
    "X_train, X_test, y_train, y_test = train_test_split(X, y, test_size=0.2, random_state=0)"
   ]
  },
  {
   "cell_type": "code",
   "execution_count": 17,
   "id": "67ea7474",
   "metadata": {},
   "outputs": [],
   "source": [
    "# Feature Scaling\n",
    "\n",
    "from sklearn.preprocessing import StandardScaler\n",
    "sc = StandardScaler()\n",
    "X_train = sc.fit_transform(X_train)\n",
    "X_test = sc.transform(X_test)"
   ]
  },
  {
   "cell_type": "markdown",
   "id": "169ebbf3",
   "metadata": {},
   "source": [
    "Now Building the ANN"
   ]
  },
  {
   "cell_type": "code",
   "execution_count": 19,
   "id": "6880ca1e",
   "metadata": {},
   "outputs": [],
   "source": [
    "# Importing the Keras libraries and packages\n",
    "\n",
    "from keras.models import Sequential\n",
    "from keras.layers import Activation, Dense\n",
    "from keras import backend"
   ]
  },
  {
   "cell_type": "code",
   "execution_count": 20,
   "id": "ce4cc289",
   "metadata": {},
   "outputs": [],
   "source": [
    "classifier = Sequential()"
   ]
  },
  {
   "cell_type": "code",
   "execution_count": 21,
   "id": "902f154a",
   "metadata": {},
   "outputs": [],
   "source": [
    "# Adding the input layer and the first hidden layer \n",
    "\n",
    "classifier.add(Dense(units=6,kernel_initializer='uniform', activation='relu',input_dim=11))"
   ]
  },
  {
   "cell_type": "code",
   "execution_count": 22,
   "id": "d5b7767d",
   "metadata": {},
   "outputs": [],
   "source": [
    "# Adding the second hidden layer\n",
    "\n",
    "classifier.add(Dense(units=6,kernel_initializer='uniform', activation='relu'))"
   ]
  },
  {
   "cell_type": "code",
   "execution_count": 23,
   "id": "01c13814",
   "metadata": {},
   "outputs": [],
   "source": [
    "# Adding the output layer\n",
    "\n",
    "classifier.add(Dense(units=1,kernel_initializer='uniform', activation='sigmoid'))"
   ]
  },
  {
   "cell_type": "code",
   "execution_count": 24,
   "id": "5cf7c57f",
   "metadata": {},
   "outputs": [],
   "source": [
    "# Compiling the ANN\n",
    "\n",
    "classifier.compile(optimizer='adam',loss='binary_crossentropy', metrics=['accuracy'])"
   ]
  },
  {
   "cell_type": "code",
   "execution_count": 25,
   "id": "108123c0",
   "metadata": {
    "scrolled": false
   },
   "outputs": [
    {
     "name": "stdout",
     "output_type": "stream",
     "text": [
      "Epoch 1/100\n",
      "720/720 [==============================] - 2s 2ms/step - loss: 0.4913 - accuracy: 0.7953 - val_loss: 0.4196 - val_accuracy: 0.7950\n",
      "Epoch 2/100\n",
      "720/720 [==============================] - 1s 1ms/step - loss: 0.4291 - accuracy: 0.7961 - val_loss: 0.4110 - val_accuracy: 0.7950\n",
      "Epoch 3/100\n",
      "720/720 [==============================] - 1s 1ms/step - loss: 0.4240 - accuracy: 0.7961 - val_loss: 0.4040 - val_accuracy: 0.7950\n",
      "Epoch 4/100\n",
      "720/720 [==============================] - 1s 1ms/step - loss: 0.4207 - accuracy: 0.8169 - val_loss: 0.4003 - val_accuracy: 0.8275\n",
      "Epoch 5/100\n",
      "720/720 [==============================] - 1s 1ms/step - loss: 0.4183 - accuracy: 0.8264 - val_loss: 0.3982 - val_accuracy: 0.8338\n",
      "Epoch 6/100\n",
      "720/720 [==============================] - 1s 1ms/step - loss: 0.4162 - accuracy: 0.8274 - val_loss: 0.3946 - val_accuracy: 0.8363\n",
      "Epoch 7/100\n",
      "720/720 [==============================] - 1s 1ms/step - loss: 0.4152 - accuracy: 0.8301 - val_loss: 0.3931 - val_accuracy: 0.8400\n",
      "Epoch 8/100\n",
      "720/720 [==============================] - 1s 1ms/step - loss: 0.4138 - accuracy: 0.8294 - val_loss: 0.3926 - val_accuracy: 0.8338\n",
      "Epoch 9/100\n",
      "720/720 [==============================] - 1s 1ms/step - loss: 0.4127 - accuracy: 0.8313 - val_loss: 0.3925 - val_accuracy: 0.8438\n",
      "Epoch 10/100\n",
      "720/720 [==============================] - 1s 1ms/step - loss: 0.4121 - accuracy: 0.8307 - val_loss: 0.3896 - val_accuracy: 0.8350\n",
      "Epoch 11/100\n",
      "720/720 [==============================] - 1s 1ms/step - loss: 0.4109 - accuracy: 0.8311 - val_loss: 0.3892 - val_accuracy: 0.8413\n",
      "Epoch 12/100\n",
      "720/720 [==============================] - 1s 1ms/step - loss: 0.4105 - accuracy: 0.8319 - val_loss: 0.3883 - val_accuracy: 0.8425\n",
      "Epoch 13/100\n",
      "720/720 [==============================] - 1s 1ms/step - loss: 0.4096 - accuracy: 0.8338 - val_loss: 0.3870 - val_accuracy: 0.8438\n",
      "Epoch 14/100\n",
      "720/720 [==============================] - 1s 1ms/step - loss: 0.4092 - accuracy: 0.8338 - val_loss: 0.3871 - val_accuracy: 0.8450\n",
      "Epoch 15/100\n",
      "720/720 [==============================] - 1s 1ms/step - loss: 0.4089 - accuracy: 0.8336 - val_loss: 0.3859 - val_accuracy: 0.8363\n",
      "Epoch 16/100\n",
      "720/720 [==============================] - 1s 1ms/step - loss: 0.4083 - accuracy: 0.8333 - val_loss: 0.3856 - val_accuracy: 0.8400\n",
      "Epoch 17/100\n",
      "720/720 [==============================] - 1s 1ms/step - loss: 0.4078 - accuracy: 0.8336 - val_loss: 0.3858 - val_accuracy: 0.8438\n",
      "Epoch 18/100\n",
      "720/720 [==============================] - 1s 1ms/step - loss: 0.4073 - accuracy: 0.8346 - val_loss: 0.3846 - val_accuracy: 0.8450\n",
      "Epoch 19/100\n",
      "720/720 [==============================] - 1s 1ms/step - loss: 0.4074 - accuracy: 0.8325 - val_loss: 0.3826 - val_accuracy: 0.8425\n",
      "Epoch 20/100\n",
      "720/720 [==============================] - 1s 1ms/step - loss: 0.4073 - accuracy: 0.8346 - val_loss: 0.3831 - val_accuracy: 0.8413\n",
      "Epoch 21/100\n",
      "720/720 [==============================] - 1s 1ms/step - loss: 0.4067 - accuracy: 0.8344 - val_loss: 0.3821 - val_accuracy: 0.8413\n",
      "Epoch 22/100\n",
      "720/720 [==============================] - 1s 1ms/step - loss: 0.4065 - accuracy: 0.8338 - val_loss: 0.3816 - val_accuracy: 0.8438\n",
      "Epoch 23/100\n",
      "720/720 [==============================] - 1s 1ms/step - loss: 0.4064 - accuracy: 0.8343 - val_loss: 0.3838 - val_accuracy: 0.8413\n",
      "Epoch 24/100\n",
      "720/720 [==============================] - 1s 1ms/step - loss: 0.4059 - accuracy: 0.8342 - val_loss: 0.3820 - val_accuracy: 0.8400\n",
      "Epoch 25/100\n",
      "720/720 [==============================] - 1s 1ms/step - loss: 0.4054 - accuracy: 0.8350 - val_loss: 0.3858 - val_accuracy: 0.8438\n",
      "Epoch 26/100\n",
      "720/720 [==============================] - 1s 1ms/step - loss: 0.4056 - accuracy: 0.8343 - val_loss: 0.3825 - val_accuracy: 0.8425\n",
      "Epoch 27/100\n",
      "720/720 [==============================] - 1s 1ms/step - loss: 0.4056 - accuracy: 0.8344 - val_loss: 0.3811 - val_accuracy: 0.8400\n",
      "Epoch 28/100\n",
      "720/720 [==============================] - 1s 1ms/step - loss: 0.4056 - accuracy: 0.8340 - val_loss: 0.3809 - val_accuracy: 0.8400\n",
      "Epoch 29/100\n",
      "720/720 [==============================] - 1s 1ms/step - loss: 0.4050 - accuracy: 0.8335 - val_loss: 0.3799 - val_accuracy: 0.8438\n",
      "Epoch 30/100\n",
      "720/720 [==============================] - 1s 1ms/step - loss: 0.4050 - accuracy: 0.8339 - val_loss: 0.3799 - val_accuracy: 0.8425\n",
      "Epoch 31/100\n",
      "720/720 [==============================] - 1s 1ms/step - loss: 0.4047 - accuracy: 0.8338 - val_loss: 0.3842 - val_accuracy: 0.8450\n",
      "Epoch 32/100\n",
      "720/720 [==============================] - 1s 1ms/step - loss: 0.4047 - accuracy: 0.8339 - val_loss: 0.3812 - val_accuracy: 0.8450\n",
      "Epoch 33/100\n",
      "720/720 [==============================] - 1s 1ms/step - loss: 0.4046 - accuracy: 0.8338 - val_loss: 0.3814 - val_accuracy: 0.8413\n",
      "Epoch 34/100\n",
      "720/720 [==============================] - 1s 1ms/step - loss: 0.4049 - accuracy: 0.8346 - val_loss: 0.3792 - val_accuracy: 0.8375\n",
      "Epoch 35/100\n",
      "720/720 [==============================] - 1s 1ms/step - loss: 0.4045 - accuracy: 0.8339 - val_loss: 0.3801 - val_accuracy: 0.8462\n",
      "Epoch 36/100\n",
      "720/720 [==============================] - 1s 1ms/step - loss: 0.4048 - accuracy: 0.8332 - val_loss: 0.3802 - val_accuracy: 0.8388\n",
      "Epoch 37/100\n",
      "720/720 [==============================] - 1s 1ms/step - loss: 0.4040 - accuracy: 0.8343 - val_loss: 0.3805 - val_accuracy: 0.8438\n",
      "Epoch 38/100\n",
      "720/720 [==============================] - 1s 1ms/step - loss: 0.4042 - accuracy: 0.8347 - val_loss: 0.3805 - val_accuracy: 0.8388\n",
      "Epoch 39/100\n",
      "720/720 [==============================] - 1s 1ms/step - loss: 0.4044 - accuracy: 0.8339 - val_loss: 0.3791 - val_accuracy: 0.8388\n",
      "Epoch 40/100\n",
      "720/720 [==============================] - 1s 1ms/step - loss: 0.4040 - accuracy: 0.8346 - val_loss: 0.3784 - val_accuracy: 0.8425\n",
      "Epoch 41/100\n",
      "720/720 [==============================] - 1s 1ms/step - loss: 0.4042 - accuracy: 0.8336 - val_loss: 0.3802 - val_accuracy: 0.8438\n",
      "Epoch 42/100\n",
      "720/720 [==============================] - 1s 1ms/step - loss: 0.4040 - accuracy: 0.8350 - val_loss: 0.3793 - val_accuracy: 0.8438\n",
      "Epoch 43/100\n",
      "720/720 [==============================] - 1s 1ms/step - loss: 0.4036 - accuracy: 0.8350 - val_loss: 0.3779 - val_accuracy: 0.8413\n",
      "Epoch 44/100\n",
      "720/720 [==============================] - 1s 1ms/step - loss: 0.4040 - accuracy: 0.8333 - val_loss: 0.3778 - val_accuracy: 0.8450\n",
      "Epoch 45/100\n",
      "720/720 [==============================] - 1s 1ms/step - loss: 0.4037 - accuracy: 0.8350 - val_loss: 0.3790 - val_accuracy: 0.8413\n",
      "Epoch 46/100\n",
      "720/720 [==============================] - 1s 1ms/step - loss: 0.4038 - accuracy: 0.8347 - val_loss: 0.3787 - val_accuracy: 0.8388\n",
      "Epoch 47/100\n",
      "720/720 [==============================] - 1s 1ms/step - loss: 0.4035 - accuracy: 0.8347 - val_loss: 0.3826 - val_accuracy: 0.8462\n",
      "Epoch 48/100\n",
      "720/720 [==============================] - 1s 1ms/step - loss: 0.4033 - accuracy: 0.8344 - val_loss: 0.3782 - val_accuracy: 0.8487\n",
      "Epoch 49/100\n",
      "720/720 [==============================] - 1s 1ms/step - loss: 0.4038 - accuracy: 0.8347 - val_loss: 0.3776 - val_accuracy: 0.8450\n",
      "Epoch 50/100\n",
      "720/720 [==============================] - 1s 1ms/step - loss: 0.4038 - accuracy: 0.8332 - val_loss: 0.3761 - val_accuracy: 0.8400\n",
      "Epoch 51/100\n",
      "720/720 [==============================] - 1s 1ms/step - loss: 0.4036 - accuracy: 0.8338 - val_loss: 0.3794 - val_accuracy: 0.8363\n",
      "Epoch 52/100\n",
      "720/720 [==============================] - 1s 1ms/step - loss: 0.4038 - accuracy: 0.8342 - val_loss: 0.3773 - val_accuracy: 0.8450\n",
      "Epoch 53/100\n",
      "720/720 [==============================] - 1s 1ms/step - loss: 0.4030 - accuracy: 0.8332 - val_loss: 0.3771 - val_accuracy: 0.8450\n",
      "Epoch 54/100\n",
      "720/720 [==============================] - 1s 1ms/step - loss: 0.4037 - accuracy: 0.8342 - val_loss: 0.3784 - val_accuracy: 0.8475\n",
      "Epoch 55/100\n",
      "720/720 [==============================] - 1s 1ms/step - loss: 0.4029 - accuracy: 0.8329 - val_loss: 0.3788 - val_accuracy: 0.8425\n",
      "Epoch 56/100\n",
      "720/720 [==============================] - 1s 1ms/step - loss: 0.4034 - accuracy: 0.8343 - val_loss: 0.3767 - val_accuracy: 0.8388\n",
      "Epoch 57/100\n",
      "720/720 [==============================] - 1s 1ms/step - loss: 0.4033 - accuracy: 0.8360 - val_loss: 0.3784 - val_accuracy: 0.8413\n",
      "Epoch 58/100\n",
      "720/720 [==============================] - 1s 1ms/step - loss: 0.4034 - accuracy: 0.8353 - val_loss: 0.3781 - val_accuracy: 0.8375\n",
      "Epoch 59/100\n",
      "720/720 [==============================] - 1s 1ms/step - loss: 0.4031 - accuracy: 0.8354 - val_loss: 0.3780 - val_accuracy: 0.8400\n",
      "Epoch 60/100\n",
      "720/720 [==============================] - 1s 1ms/step - loss: 0.4033 - accuracy: 0.8350 - val_loss: 0.3776 - val_accuracy: 0.8500\n",
      "Epoch 61/100\n",
      "720/720 [==============================] - 1s 1ms/step - loss: 0.4031 - accuracy: 0.8347 - val_loss: 0.3787 - val_accuracy: 0.8462\n",
      "Epoch 62/100\n",
      "720/720 [==============================] - 1s 1ms/step - loss: 0.4031 - accuracy: 0.8336 - val_loss: 0.3790 - val_accuracy: 0.8425\n",
      "Epoch 63/100\n",
      "720/720 [==============================] - 1s 1ms/step - loss: 0.4028 - accuracy: 0.8333 - val_loss: 0.3807 - val_accuracy: 0.8363\n",
      "Epoch 64/100\n",
      "720/720 [==============================] - 1s 1ms/step - loss: 0.4034 - accuracy: 0.8351 - val_loss: 0.3779 - val_accuracy: 0.8363\n",
      "Epoch 65/100\n",
      "720/720 [==============================] - 1s 1ms/step - loss: 0.4032 - accuracy: 0.8356 - val_loss: 0.3777 - val_accuracy: 0.8500\n",
      "Epoch 66/100\n",
      "720/720 [==============================] - 1s 1ms/step - loss: 0.4032 - accuracy: 0.8349 - val_loss: 0.3773 - val_accuracy: 0.8438\n",
      "Epoch 67/100\n",
      "720/720 [==============================] - 1s 1ms/step - loss: 0.4034 - accuracy: 0.8338 - val_loss: 0.3774 - val_accuracy: 0.8475\n",
      "Epoch 68/100\n",
      "720/720 [==============================] - 1s 1ms/step - loss: 0.4029 - accuracy: 0.8356 - val_loss: 0.3770 - val_accuracy: 0.8413\n",
      "Epoch 69/100\n",
      "720/720 [==============================] - 1s 1ms/step - loss: 0.4026 - accuracy: 0.8363 - val_loss: 0.3766 - val_accuracy: 0.8388\n",
      "Epoch 70/100\n",
      "720/720 [==============================] - 1s 1ms/step - loss: 0.4032 - accuracy: 0.8340 - val_loss: 0.3764 - val_accuracy: 0.8425\n",
      "Epoch 71/100\n",
      "720/720 [==============================] - 1s 1ms/step - loss: 0.4027 - accuracy: 0.8351 - val_loss: 0.3774 - val_accuracy: 0.8450\n",
      "Epoch 72/100\n",
      "720/720 [==============================] - 1s 1ms/step - loss: 0.4021 - accuracy: 0.8343 - val_loss: 0.3789 - val_accuracy: 0.8375\n",
      "Epoch 73/100\n",
      "720/720 [==============================] - 1s 1ms/step - loss: 0.4035 - accuracy: 0.8349 - val_loss: 0.3776 - val_accuracy: 0.8487\n",
      "Epoch 74/100\n",
      "720/720 [==============================] - 1s 1ms/step - loss: 0.4025 - accuracy: 0.8347 - val_loss: 0.3785 - val_accuracy: 0.8475\n",
      "Epoch 75/100\n",
      "720/720 [==============================] - 1s 1ms/step - loss: 0.4026 - accuracy: 0.8350 - val_loss: 0.3766 - val_accuracy: 0.8475\n",
      "Epoch 76/100\n",
      "720/720 [==============================] - 1s 1ms/step - loss: 0.4029 - accuracy: 0.8340 - val_loss: 0.3786 - val_accuracy: 0.8500\n",
      "Epoch 77/100\n",
      "720/720 [==============================] - 1s 1ms/step - loss: 0.4025 - accuracy: 0.8351 - val_loss: 0.3774 - val_accuracy: 0.8413\n",
      "Epoch 78/100\n",
      "720/720 [==============================] - 1s 1ms/step - loss: 0.4025 - accuracy: 0.8338 - val_loss: 0.3770 - val_accuracy: 0.8413\n",
      "Epoch 79/100\n",
      "720/720 [==============================] - 1s 1ms/step - loss: 0.4026 - accuracy: 0.8354 - val_loss: 0.3765 - val_accuracy: 0.8438\n",
      "Epoch 80/100\n",
      "720/720 [==============================] - 1s 1ms/step - loss: 0.4024 - accuracy: 0.8332 - val_loss: 0.3770 - val_accuracy: 0.8462\n",
      "Epoch 81/100\n",
      "720/720 [==============================] - 1s 1ms/step - loss: 0.4022 - accuracy: 0.8356 - val_loss: 0.3765 - val_accuracy: 0.8388\n",
      "Epoch 82/100\n",
      "720/720 [==============================] - 1s 1ms/step - loss: 0.4024 - accuracy: 0.8343 - val_loss: 0.3780 - val_accuracy: 0.8462\n",
      "Epoch 83/100\n",
      "720/720 [==============================] - 1s 1ms/step - loss: 0.4024 - accuracy: 0.8346 - val_loss: 0.3800 - val_accuracy: 0.8537\n",
      "Epoch 84/100\n",
      "720/720 [==============================] - 1s 1ms/step - loss: 0.4026 - accuracy: 0.8340 - val_loss: 0.3762 - val_accuracy: 0.8425\n",
      "Epoch 85/100\n",
      "720/720 [==============================] - 1s 1ms/step - loss: 0.4028 - accuracy: 0.8349 - val_loss: 0.3783 - val_accuracy: 0.8413\n",
      "Epoch 86/100\n",
      "720/720 [==============================] - 1s 1ms/step - loss: 0.4016 - accuracy: 0.8353 - val_loss: 0.3769 - val_accuracy: 0.8400\n",
      "Epoch 87/100\n",
      "720/720 [==============================] - 1s 1ms/step - loss: 0.4025 - accuracy: 0.8340 - val_loss: 0.3783 - val_accuracy: 0.8475\n",
      "Epoch 88/100\n",
      "720/720 [==============================] - 1s 1ms/step - loss: 0.4025 - accuracy: 0.8353 - val_loss: 0.3772 - val_accuracy: 0.8500\n",
      "Epoch 89/100\n",
      "720/720 [==============================] - 1s 1ms/step - loss: 0.4027 - accuracy: 0.8332 - val_loss: 0.3747 - val_accuracy: 0.8425\n",
      "Epoch 90/100\n",
      "720/720 [==============================] - 1s 1ms/step - loss: 0.4023 - accuracy: 0.8365 - val_loss: 0.3775 - val_accuracy: 0.8487\n",
      "Epoch 91/100\n",
      "720/720 [==============================] - 1s 1ms/step - loss: 0.4025 - accuracy: 0.8344 - val_loss: 0.3771 - val_accuracy: 0.8500\n",
      "Epoch 92/100\n",
      "720/720 [==============================] - 1s 1ms/step - loss: 0.4021 - accuracy: 0.8347 - val_loss: 0.3821 - val_accuracy: 0.8487\n",
      "Epoch 93/100\n",
      "720/720 [==============================] - 1s 1ms/step - loss: 0.4027 - accuracy: 0.8349 - val_loss: 0.3766 - val_accuracy: 0.8475\n",
      "Epoch 94/100\n",
      "720/720 [==============================] - 1s 1ms/step - loss: 0.4026 - accuracy: 0.8349 - val_loss: 0.3762 - val_accuracy: 0.8438\n",
      "Epoch 95/100\n",
      "720/720 [==============================] - 1s 1ms/step - loss: 0.4025 - accuracy: 0.8353 - val_loss: 0.3773 - val_accuracy: 0.8425\n",
      "Epoch 96/100\n",
      "720/720 [==============================] - 1s 1ms/step - loss: 0.4028 - accuracy: 0.8353 - val_loss: 0.3764 - val_accuracy: 0.8400\n",
      "Epoch 97/100\n",
      "720/720 [==============================] - 1s 1ms/step - loss: 0.4020 - accuracy: 0.8332 - val_loss: 0.3799 - val_accuracy: 0.8525\n",
      "Epoch 98/100\n",
      "720/720 [==============================] - 1s 1ms/step - loss: 0.4022 - accuracy: 0.8353 - val_loss: 0.3760 - val_accuracy: 0.8425\n",
      "Epoch 99/100\n",
      "720/720 [==============================] - 1s 1ms/step - loss: 0.4026 - accuracy: 0.8343 - val_loss: 0.3777 - val_accuracy: 0.8450\n",
      "Epoch 100/100\n",
      "720/720 [==============================] - 1s 1ms/step - loss: 0.4024 - accuracy: 0.8361 - val_loss: 0.3773 - val_accuracy: 0.8413\n"
     ]
    },
    {
     "data": {
      "text/plain": [
       "<keras.src.callbacks.History at 0x23f16889f70>"
      ]
     },
     "execution_count": 25,
     "metadata": {},
     "output_type": "execute_result"
    }
   ],
   "source": [
    "# Fitting the ANN to the Training set\n",
    "\n",
    "classifier.fit(X_train, y_train, batch_size=10,epochs=100, validation_split=0.1)"
   ]
  },
  {
   "cell_type": "markdown",
   "id": "9c67a6f0",
   "metadata": {},
   "source": [
    "Making Predictions and Evaluating the Model"
   ]
  },
  {
   "cell_type": "code",
   "execution_count": 27,
   "id": "a03f84ab",
   "metadata": {},
   "outputs": [
    {
     "name": "stdout",
     "output_type": "stream",
     "text": [
      "63/63 [==============================] - 0s 1ms/step\n"
     ]
    }
   ],
   "source": [
    "# Predicting the Test set results\n",
    "\n",
    "y_pred = classifier.predict(X_test)"
   ]
  },
  {
   "cell_type": "code",
   "execution_count": 28,
   "id": "50c6ac8e",
   "metadata": {},
   "outputs": [
    {
     "data": {
      "text/plain": [
       "array([[0.20359792],\n",
       "       [0.3446929 ],\n",
       "       [0.16927631],\n",
       "       ...,\n",
       "       [0.19803262],\n",
       "       [0.16846734],\n",
       "       [0.12690541]], dtype=float32)"
      ]
     },
     "execution_count": 28,
     "metadata": {},
     "output_type": "execute_result"
    }
   ],
   "source": [
    "y_pred"
   ]
  },
  {
   "cell_type": "code",
   "execution_count": 29,
   "id": "d176ad96",
   "metadata": {},
   "outputs": [],
   "source": [
    "y_pred = np.where(y_pred > 0.5,1,0)"
   ]
  },
  {
   "cell_type": "code",
   "execution_count": 30,
   "id": "ed9026fc",
   "metadata": {},
   "outputs": [
    {
     "data": {
      "text/plain": [
       "array([[0],\n",
       "       [0],\n",
       "       [0],\n",
       "       ...,\n",
       "       [0],\n",
       "       [0],\n",
       "       [0]])"
      ]
     },
     "execution_count": 30,
     "metadata": {},
     "output_type": "execute_result"
    }
   ],
   "source": [
    "y_pred"
   ]
  },
  {
   "cell_type": "code",
   "execution_count": 31,
   "id": "7daa8b5a",
   "metadata": {},
   "outputs": [
    {
     "name": "stdout",
     "output_type": "stream",
     "text": [
      "[[1543   52]\n",
      " [ 270  135]]\n"
     ]
    }
   ],
   "source": [
    "# Making the Confusion Matrix\n",
    "\n",
    "from sklearn.metrics import classification_report, confusion_matrix, accuracy_score\n",
    "\n",
    "print(confusion_matrix(y_test,y_pred))"
   ]
  },
  {
   "cell_type": "code",
   "execution_count": 32,
   "id": "221ce10d",
   "metadata": {},
   "outputs": [
    {
     "name": "stdout",
     "output_type": "stream",
     "text": [
      "              precision    recall  f1-score   support\n",
      "\n",
      "           0       0.85      0.97      0.91      1595\n",
      "           1       0.72      0.33      0.46       405\n",
      "\n",
      "    accuracy                           0.84      2000\n",
      "   macro avg       0.79      0.65      0.68      2000\n",
      "weighted avg       0.82      0.84      0.81      2000\n",
      "\n"
     ]
    }
   ],
   "source": [
    "print(classification_report(y_test,y_pred))"
   ]
  },
  {
   "cell_type": "code",
   "execution_count": 33,
   "id": "68b9d489",
   "metadata": {},
   "outputs": [
    {
     "name": "stdout",
     "output_type": "stream",
     "text": [
      "0.839\n"
     ]
    }
   ],
   "source": [
    "print(accuracy_score(y_test, y_pred))"
   ]
  },
  {
   "cell_type": "code",
   "execution_count": 34,
   "id": "597ff3cb",
   "metadata": {},
   "outputs": [],
   "source": [
    "# Computing false and true positive rates\n",
    "\n",
    "from sklearn.metrics import confusion_matrix, roc_curve, roc_auc_score\n",
    "fpr, tpr,_=roc_curve(y_pred,y_test,drop_intermediate=False)"
   ]
  },
  {
   "cell_type": "code",
   "execution_count": 35,
   "id": "5479cda0",
   "metadata": {},
   "outputs": [
    {
     "data": {
      "image/png": "[encoded data removed]",
      "text/plain": [
       "<Figure size 640x480 with 1 Axes>"
      ]
     },
     "metadata": {},
     "output_type": "display_data"
    },
    {
     "data": {
      "text/plain": [
       "0.7865003495255596"
      ]
     },
     "execution_count": 35,
     "metadata": {},
     "output_type": "execute_result"
    }
   ],
   "source": [
    "import matplotlib.pyplot as plt\n",
    "plt.figure()\n",
    "\n",
    "# Adding the ROC\n",
    "\n",
    "plt.plot(fpr, tpr, color='red',lw=2, label='ROC curve')\n",
    "plt.plot([0, 1], [0, 1], color='blue', lw=2, linestyle='--')\n",
    "plt.xlabel('FPR')\n",
    "plt.ylabel('TPR')\n",
    "plt.title('ROC curve')\n",
    "plt.show()\n",
    "roc_auc_score(y_pred,y_test) # AUC Value"
   ]
  },
  {
   "cell_type": "code",
   "execution_count": 37,
   "id": "0e37303a",
   "metadata": {},
   "outputs": [
    {
     "name": "stdout",
     "output_type": "stream",
     "text": [
      "63/63 [==============================] - 0s 1ms/step\n"
     ]
    },
    {
     "data": {
      "text/html": [
       "<div>\n",
       "<style scoped>\n",
       "    .dataframe tbody tr th:only-of-type {\n",
       "        vertical-align: middle;\n",
       "    }\n",
       "\n",
       "    .dataframe tbody tr th {\n",
       "        vertical-align: top;\n",
       "    }\n",
       "\n",
       "    .dataframe thead th {\n",
       "        text-align: right;\n",
       "    }\n",
       "</style>\n",
       "<table border=\"1\" class=\"dataframe\">\n",
       "  <thead>\n",
       "    <tr style=\"text-align: right;\">\n",
       "      <th></th>\n",
       "      <th>y</th>\n",
       "      <th>p</th>\n",
       "    </tr>\n",
       "  </thead>\n",
       "  <tbody>\n",
       "    <tr>\n",
       "      <th>0</th>\n",
       "      <td>0</td>\n",
       "      <td>0.203598</td>\n",
       "    </tr>\n",
       "    <tr>\n",
       "      <th>1</th>\n",
       "      <td>1</td>\n",
       "      <td>0.344693</td>\n",
       "    </tr>\n",
       "    <tr>\n",
       "      <th>2</th>\n",
       "      <td>0</td>\n",
       "      <td>0.169276</td>\n",
       "    </tr>\n",
       "    <tr>\n",
       "      <th>3</th>\n",
       "      <td>0</td>\n",
       "      <td>0.064842</td>\n",
       "    </tr>\n",
       "    <tr>\n",
       "      <th>4</th>\n",
       "      <td>0</td>\n",
       "      <td>0.195319</td>\n",
       "    </tr>\n",
       "  </tbody>\n",
       "</table>\n",
       "</div>"
      ],
      "text/plain": [
       "   y         p\n",
       "0  0  0.203598\n",
       "1  1  0.344693\n",
       "2  0  0.169276\n",
       "3  0  0.064842\n",
       "4  0  0.195319"
      ]
     },
     "execution_count": 37,
     "metadata": {},
     "output_type": "execute_result"
    }
   ],
   "source": [
    "# KS calculation\n",
    "\n",
    "a=pd.DataFrame(y_test)\n",
    "b = pd.DataFrame(classifier.predict(X_test))\n",
    "a = a.reset_index()\n",
    "b = b.reset_index()\n",
    "rock = pd.concat([a,b], axis=1)\n",
    "rock = rock.iloc[:,[1,3] ]\n",
    "rock.head()\n",
    "df = rock.copy()\n",
    "df.columns = [\"y\",\"p\"]\n",
    "df.head()"
   ]
  },
  {
   "cell_type": "code",
   "execution_count": 38,
   "id": "20f339bf",
   "metadata": {},
   "outputs": [
    {
     "name": "stdout",
     "output_type": "stream",
     "text": [
      "        min_prob  max_prob  events  nonevents event_rate nonevent_rate  \\\n",
      "Decile                                                                   \n",
      "1       0.485989  0.862357     142         58     35.06%         3.64%   \n",
      "2       0.334275  0.485524      76        124     18.77%         7.77%   \n",
      "3       0.243090  0.334132      55        145     13.58%         9.09%   \n",
      "4       0.189308  0.242667      35        165      8.64%        10.34%   \n",
      "5       0.144908  0.188856      25        175      6.17%        10.97%   \n",
      "6       0.112190  0.144787      20        180      4.94%        11.29%   \n",
      "7       0.083572  0.111988      17        183      4.20%        11.47%   \n",
      "8       0.060323  0.083482      13        187      3.21%        11.72%   \n",
      "9       0.039691  0.060228      12        188      2.96%        11.79%   \n",
      "10      0.006495  0.039589      10        190      2.47%        11.91%   \n",
      "\n",
      "       cum_eventrate cum_noneventrate    KS  \n",
      "Decile                                       \n",
      "1             35.06%            3.64%  31.4  \n",
      "2             53.83%           11.41%  42.4  \n",
      "3             67.41%           20.50%  46.9  \n",
      "4             76.05%           30.85%  45.2  \n",
      "5             82.22%           41.82%  40.4  \n",
      "6             87.16%           53.10%  34.1  \n",
      "7             91.36%           64.58%  26.8  \n",
      "8             94.57%           76.30%  18.3  \n",
      "9             97.53%           88.09%   9.4  \n",
      "10           100.00%          100.00%   0.0  \n",
      "\u001b[31mKS is 46.9% at decile 3\n"
     ]
    }
   ],
   "source": [
    "def ks(data=None,target=None, prob=None):\n",
    "    data['target0'] = 1 - data[target]\n",
    "    data['bucket'] = pd.qcut(data[prob], 10)\n",
    "    grouped = data.groupby('bucket', as_index = False)\n",
    "    kstable = pd.DataFrame()\n",
    "    kstable['min_prob'] = grouped.min()[prob]\n",
    "    kstable['max_prob'] = grouped.max()[prob]\n",
    "    kstable['events']   = grouped.sum()[target]\n",
    "    kstable['nonevents'] = grouped.sum()['target0']\n",
    "    kstable = kstable.sort_values(by=\"min_prob\", ascending=False).reset_index(drop = True)\n",
    "    kstable['event_rate'] = (kstable.events / data[target].sum()).apply('{0:.2%}'.format)\n",
    "    kstable['nonevent_rate'] = (kstable.nonevents / data['target0'].sum()).apply('{0:.2%}'.format)\n",
    "    kstable['cum_eventrate']=(kstable.events / data[target].sum()).cumsum()\n",
    "    kstable['cum_noneventrate']=(kstable.nonevents / data['target0'].sum()).cumsum()\n",
    "    kstable['KS'] = np.round(kstable['cum_eventrate']-kstable['cum_noneventrate'], 3) * 100\n",
    "\n",
    "    # Formating\n",
    "    \n",
    "    kstable['cum_eventrate']= kstable['cum_eventrate'].apply('{0:.2%}'.format)\n",
    "    kstable['cum_noneventrate']= kstable['cum_noneventrate'].apply('{0:.2%}'.format)\n",
    "    kstable.index = range(1,11)\n",
    "    kstable.index.rename('Decile', inplace=True)\n",
    "    pd.set_option('display.max_columns', 9)\n",
    "    print(kstable)\n",
    "    \n",
    "    # Display KS\n",
    "    \n",
    "    from colorama import Fore\n",
    "    print(Fore.RED + \"KS is \" + str(max(kstable['KS']))+\"%\"+ \" at decile \" + str((kstable.index[kstable['KS']==max(kstable['KS'])][0])))\n",
    "    return(kstable)\n",
    "\n",
    "\n",
    "mydf = ks(data=df,target=\"y\", prob=\"p\")\n"
   ]
  },
  {
   "cell_type": "code",
   "execution_count": null,
   "id": "af9bbbde",
   "metadata": {},
   "outputs": [],
   "source": []
  },
  {
   "cell_type": "code",
   "execution_count": null,
   "id": "3c24689b",
   "metadata": {},
   "outputs": [],
   "source": []
  },
  {
   "cell_type": "code",
   "execution_count": null,
   "id": "917601d9",
   "metadata": {},
   "outputs": [],
   "source": []
  }
 ],
 "metadata": {
  "kernelspec": {
   "display_name": "Python 3 (ipykernel)",
   "language": "python",
   "name": "python3"
  },
  "language_info": {
   "codemirror_mode": {
    "name": "ipython",
    "version": 3
   },
   "file_extension": ".py",
   "mimetype": "text/x-python",
   "name": "python",
   "nbconvert_exporter": "python",
   "pygments_lexer": "ipython3",
   "version": "3.9.13"
  }
 },
 "nbformat": 4,
 "nbformat_minor": 5
}
